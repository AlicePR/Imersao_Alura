{
  "nbformat": 4,
  "nbformat_minor": 0,
  "metadata": {
    "colab": {
      "provenance": [],
      "authorship_tag": "ABX9TyN15+7uZ/ucUoF/Qu8ttCRd",
      "include_colab_link": true
    },
    "kernelspec": {
      "name": "python3",
      "display_name": "Python 3"
    },
    "language_info": {
      "name": "python"
    }
  },
  "cells": [
    {
      "cell_type": "markdown",
      "metadata": {
        "id": "view-in-github",
        "colab_type": "text"
      },
      "source": [
        "<a href=\"https://colab.research.google.com/github/AlicePR/Imersao_Alura/blob/main/Relatorio_Desastres_Naturais.ipynb\" target=\"_parent\"><img src=\"https://colab.research.google.com/assets/colab-badge.svg\" alt=\"Open In Colab\"/></a>"
      ]
    },
    {
      "cell_type": "markdown",
      "source": [
        "Gerador de Relatórios Detalhados sobre Danos:\n",
        "Objetivo: Auxiliar na avaliação de danos após desastres naturais, gerando relatórios detalhados com base em imagens aéreas ou de satélite.\n",
        "Funcionalidades:\n",
        "Integrar com APIs de processamento de imagens (ex: Google Cloud Vision API) para analisar imagens de áreas afetadas.\n",
        "Usar a API google.generativeai para gerar descrições detalhadas dos danos identificados, classificando-os por tipo e gravidade.\n",
        "Estimar a extensão dos danos com base nas imagens analisadas.\n",
        "Gerar relatórios visuais e textuais que podem ser utilizados por autoridades e organizações de ajuda humanitária."
      ],
      "metadata": {
        "id": "kj4JlmBrfFOp"
      }
    },
    {
      "cell_type": "code",
      "execution_count": null,
      "metadata": {
        "id": "4WwinyTNeZy5"
      },
      "outputs": [],
      "source": [
        "from google.generativeai import generate_text\n",
        "\n",
        "dados_imagem = \"...\" # Dados extraídos da imagem pela API de processamento de imagens\n",
        "\n",
        "prompt = f\"Com base nos dados da imagem: {dados_imagem}, descreva os danos causados pelo desastre natural, classificando-os por tipo e gravidade. Estime a extensão dos danos em termos de área afetada.\"\n",
        "\n",
        "resposta = generate_text(prompt)\n",
        "\n",
        "print(resposta)"
      ]
    }
  ]
}